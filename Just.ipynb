{
 "cells": [
  {
   "cell_type": "code",
   "execution_count": 30,
   "metadata": {},
   "outputs": [],
   "source": [
    "import tweepy\n",
    "from pprint import pprint #for printing the Tweet in a format \n",
    "import jsonpickle #for creating a pickle file for storing the tweets\n",
    "#for getting Stream of Data\n",
    "from tweepy import Stream\n",
    "from tweepy.streaming import StreamListener"
   ]
  },
  {
   "cell_type": "code",
   "execution_count": 31,
   "metadata": {},
   "outputs": [
    {
     "name": "stdout",
     "output_type": "stream",
     "text": [
      "Authentication successfull!!! :D\n"
     ]
    }
   ],
   "source": [
    "#Consumer Key (API Key), Consumer Secret (API Secret)\n",
    "auth = tweepy.OAuthHandler('5cfaZLaj9rN8XutE26rGLIloc','GBesiG8rnDM0DgwDboltdPnVWordK4jUDKMh2pBPwSRmN91Ukt')\n",
    "# Access Token, Access Token Secret\n",
    "auth.set_access_token('915900688625934336-VHvLuMn2pMAFk6vqgvK3VwEuNOkTu5q','Z6ELPe9rnhWkP8JJQGbRAT82HLq4Ot1yBHQ441NkYRHaP')\n",
    "\n",
    "api = tweepy.API(auth)\n",
    "if (not api):\n",
    "    print(\"Authentication failed :(\")\n",
    "else:\n",
    "    print(\"Authentication successfull!!! :D\")"
   ]
  },
  {
   "cell_type": "code",
   "execution_count": 32,
   "metadata": {},
   "outputs": [],
   "source": [
    "query = '#TerroristNationPakistan'  # this is what we're searching for\n",
    "en_lang = 'en' # this is used to specify the language of the tweets\n",
    "popular_results = 'popular' # used to specifiy the order of tweet results. Accepted values: popular|recent|mixec\n",
    "extended_mode = 'extended' # used to tell the API not to truncate the tweet"
   ]
  },
  {
   "cell_type": "code",
   "execution_count": 33,
   "metadata": {},
   "outputs": [],
   "source": [
    "#Query the endpoint\n",
    "search_results = api.search(q=query, lang=en_lang, result_type=popular_results,tweet_mode=extended_mode )"
   ]
  },
  {
   "cell_type": "code",
   "execution_count": 35,
   "metadata": {},
   "outputs": [
    {
     "name": "stdout",
     "output_type": "stream",
     "text": [
      "('I shall boycott all goods, services, products &amp; artists from  '\n",
      " '#TerroristNationPakistan in light of #PulawamaTerrorAttack - The global '\n",
      " 'community must isolate Pakistan too - RT if you agree &amp; shall do the '\n",
      " 'same starting today #NothingPakistaniInMyLife')\n",
      "--------------------------------------------------------\n",
      "('How many Pakistani artists who come and earn name fame n money here have '\n",
      " 'condemned the #PulawamaTerrorAttack ? Where r their sympathisers in India '\n",
      " 'today? Why don’t those Pakistani artists question their '\n",
      " '#TerroristNationPakistan govt n ask them to stop terrorism? #TimeForRevenge')\n",
      "--------------------------------------------------------\n",
      "('A bloodless war can be fought.\\n'\n",
      " 'In an interesting idea I received on Whatsapp, \"@BCCI should ban '\n",
      " 'international players who play for Pakistan\\'s PSL from playing in @IPL\"\\n'\n",
      " '#TerroristNationPakistan')\n",
      "--------------------------------------------------------\n"
     ]
    }
   ],
   "source": [
    "#Print the result\n",
    "print_till = 15\n",
    "counter = 0\n",
    "for tweet in search_results:\n",
    "    if counter < print_till:\n",
    "        pprint(tweet._json['full_text'])\n",
    "        print('--------------------------------------------------------')\n",
    "        counter += 1"
   ]
  },
  {
   "cell_type": "code",
   "execution_count": null,
   "metadata": {},
   "outputs": [],
   "source": []
  }
 ],
 "metadata": {
  "kernelspec": {
   "display_name": "Python 3",
   "language": "python",
   "name": "python3"
  },
  "language_info": {
   "codemirror_mode": {
    "name": "ipython",
    "version": 3
   },
   "file_extension": ".py",
   "mimetype": "text/x-python",
   "name": "python",
   "nbconvert_exporter": "python",
   "pygments_lexer": "ipython3",
   "version": "3.6.7"
  }
 },
 "nbformat": 4,
 "nbformat_minor": 2
}
